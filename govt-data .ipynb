{
 "cells": [
  {
   "cell_type": "code",
   "execution_count": 21,
   "id": "64c08dc3",
   "metadata": {},
   "outputs": [],
   "source": [
    "#UPDATE this cell with your data source + Dictionary/Codebook\n",
    "#data source: https://www2.ed.gov/about/inits/ed/edfacts/data-files/index.html\n",
    "#data dictionary: FIND LATER"
   ]
  },
  {
   "cell_type": "code",
   "execution_count": 22,
   "id": "bd0e005f",
   "metadata": {},
   "outputs": [],
   "source": [
    "#import libraries\n",
    "import pandas as pd\n",
    "import matplotlib"
   ]
  },
  {
   "cell_type": "code",
   "execution_count": 23,
   "id": "42a13850",
   "metadata": {},
   "outputs": [],
   "source": [
    "#name file path path and choose the appropriate cell to execute\n",
    "file = 'ffpub21.csv' "
   ]
  },
  {
   "cell_type": "code",
   "execution_count": 24,
   "id": "7188eee3",
   "metadata": {},
   "outputs": [],
   "source": [
    "#import numpy\n",
    "import numpy as np"
   ]
  },
  {
   "cell_type": "code",
   "execution_count": 25,
   "id": "b488af4d",
   "metadata": {},
   "outputs": [
    {
     "name": "stdout",
     "output_type": "stream",
     "text": [
      "   FPOVCUT  FPERSONS  FHEADIDX  FSPOUIDX  FOWNU6  FRELU6  FKIND  FKINDEX  \\\n",
      "0    20244         3         1         2       0       0      1        1   \n",
      "1    20244         3         1         2       0       0      1        1   \n",
      "2    12413         1         1         0       0       0      2        3   \n",
      "3    17839         2         1         0       0       0      2        3   \n",
      "4    13465         1         3         0       0       0      3        4   \n",
      "\n",
      "   FTYPE  FRELU18  ...  F_MV_SL  I_FHIPVAL  I_FHIPVAL2  I_FMEDVAL  I_FMOOP  \\\n",
      "0      1        0  ...        0          1           1          0        1   \n",
      "1      1        0  ...        0          0           0          0        0   \n",
      "2      2        0  ...        0          1           1          0        1   \n",
      "3      1        1  ...      105          0           0          0        0   \n",
      "4      5        0  ...        0          0           0          0        0   \n",
      "\n",
      "   I_FMOOP2  I_FOTCVAL  POVLL  FILEDATE  YYYYMM  \n",
      "0         1          0      5     81921  202103  \n",
      "1         0          0     14     81921  202103  \n",
      "2         1          1      5     81921  202103  \n",
      "3         0          0      1     81921  202103  \n",
      "4         0          0     12     81921  202103  \n",
      "\n",
      "[5 rows x 85 columns]\n"
     ]
    }
   ],
   "source": [
    "#read data from CSV and print head\n",
    "df = pd.read_csv('ffpub21.csv')\n",
    "print(df.head())\n",
    "#df = pd.DataFrame(np.random.randint(0,100, size = (1000, 12)), columns = list('ABCDEFGHIJKL'))\n",
    "#print(df)"
   ]
  },
  {
   "cell_type": "code",
   "execution_count": 26,
   "id": "92a79fb6",
   "metadata": {},
   "outputs": [
    {
     "name": "stdout",
     "output_type": "stream",
     "text": [
      "   FPOVCUT  FPERSONS  FHEADIDX  FSPOUIDX  FOWNU6  FRELU6  FKIND  FKINDEX  \\\n",
      "0    20244         3         1         2       0       0      1        1   \n",
      "1    20244         3         1         2       0       0      1        1   \n",
      "2    12413         1         1         0       0       0      2        3   \n",
      "3    17839         2         1         0       0       0      2        3   \n",
      "4    13465         1         3         0       0       0      3        4   \n",
      "\n",
      "   FTYPE  FRELU18  ...  F_MV_SL  I_FHIPVAL  I_FHIPVAL2  I_FMEDVAL  I_FMOOP  \\\n",
      "0      1        0  ...        0          1           1          0        1   \n",
      "1      1        0  ...        0          0           0          0        0   \n",
      "2      2        0  ...        0          1           1          0        1   \n",
      "3      1        1  ...      105          0           0          0        0   \n",
      "4      5        0  ...        0          0           0          0        0   \n",
      "\n",
      "   I_FMOOP2  I_FOTCVAL  POVLL  FILEDATE  YYYYMM  \n",
      "0         1          0      5     81921  202103  \n",
      "1         0          0     14     81921  202103  \n",
      "2         1          1      5     81921  202103  \n",
      "3         0          0      1     81921  202103  \n",
      "4         0          0     12     81921  202103  \n",
      "\n",
      "[5 rows x 85 columns]\n"
     ]
    }
   ],
   "source": [
    "#print first five rows of dataset\n",
    "print(df.head())"
   ]
  },
  {
   "cell_type": "code",
   "execution_count": 27,
   "id": "109b9127",
   "metadata": {},
   "outputs": [
    {
     "name": "stdout",
     "output_type": "stream",
     "text": [
      "['FPOVCUT', 'FPERSONS', 'FHEADIDX', 'FSPOUIDX', 'FOWNU6', 'FRELU6', 'FKIND', 'FKINDEX', 'FTYPE', 'FRELU18', 'FOWNU18', 'FLASTIDX', 'FMLASIDX', 'FH_SEQ', 'FAMLIS', 'FANNVAL', 'FCSPVAL', 'FDISVAL', 'FDIVVAL', 'FDSTVAL', 'FEARNVAL', 'FEDVAL', 'FFINVAL', 'FFPOS', 'FFRVAL', 'FHIP_VAL', 'FHIP_VAL2', 'FINC_ANN', 'FINC_CSP', 'FINC_DIS', 'FINC_DIV', 'FINC_DST', 'FINC_ED', 'FINC_FIN', 'FINC_FR', 'FINC_INT', 'FINC_OI', 'FINC_PAW', 'FINC_PEN', 'FINC_RNT', 'FINC_SE', 'FINC_SS', 'FINC_SSI', 'FINC_SUR', 'FINC_UC', 'FINC_VET', 'FINC_WC', 'FINC_WS', 'FINTVAL', 'FMED_VAL', 'FMOOP', 'FMOOP2', 'FOIVAL', 'FOTC_VAL', 'FOTHVAL', 'FPAWVAL', 'FPCTCUT', 'FPENVAL', 'FRECORD', 'FRNTVAL', 'FRSPOV', 'FRSPPCT', 'FSEVAL', 'FSPANISH', 'FSSIVAL', 'FSSVAL', 'FSUP_WGT', 'FSURVAL', 'FTOTVAL', 'FTOT_R', 'FUCVAL', 'FVETVAL', 'FWCVAL', 'FWSVAL', 'F_MV_FS', 'F_MV_SL', 'I_FHIPVAL', 'I_FHIPVAL2', 'I_FMEDVAL', 'I_FMOOP', 'I_FMOOP2', 'I_FOTCVAL', 'POVLL', 'FILEDATE', 'YYYYMM']\n",
      "73151\n",
      "85\n"
     ]
    }
   ],
   "source": [
    "#print list of column names \n",
    "print(list(df))\n",
    "print(len(df))\n",
    "print(len(list(df)))"
   ]
  },
  {
   "cell_type": "code",
   "execution_count": 42,
   "id": "1f3968ac",
   "metadata": {},
   "outputs": [
    {
     "name": "stdout",
     "output_type": "stream",
     "text": [
      "   kind of family   freq\n",
      "0               1  32306\n",
      "2               2  17439\n",
      "1               3  23406\n"
     ]
    }
   ],
   "source": [
    "#output frequency table of chosen column in dataset\n",
    "col = 'FKIND' #<-edit this value! column name as it appears in dataframe\n",
    "col_name = 'kind of family' #<-edit this value! descriptive name for column\n",
    "freq = df[col].value_counts().rename_axis(col_name).reset_index(name='freq')\n",
    "freq = freq.sort_values(by = col_name)\n",
    "print(freq)"
   ]
  },
  {
   "cell_type": "code",
   "execution_count": 43,
   "id": "19b708e8",
   "metadata": {},
   "outputs": [
    {
     "name": "stdout",
     "output_type": "stream",
     "text": [
      "            kind of family   freq\n",
      "0    Married Couple Family  32306\n",
      "2    Male Reference Person  17439\n",
      "1  Female Reference Person  23406\n"
     ]
    }
   ],
   "source": [
    "#replace codes with descriptive labels\n",
    "#if your dataframe already has descriptive labels, you don't need to run this cell\n",
    "codebook = [['1', 'Married Couple Family'], #<- if appropriate, replace these values based on codebook or data dictionary for your dataset\n",
    "            ['2', 'Male Reference Person'], \n",
    "            ['3', 'Female Reference Person']]\n",
    "#loops through label codes and replaces them in frequency table\n",
    "for lbl in codebook:\n",
    "    #Use line below if codes are stored as integers\n",
    "    freq[col_name] = freq[col_name].replace(int(lbl[0]), lbl[1])\n",
    "    #use line below if codes are stored as inegers\n",
    "    #freq[col_name] = freq[col_name].replace(lbl[0], lbl[1])\n",
    "\n",
    "\n",
    "#prints updated frequency table\n",
    "print(freq)"
   ]
  },
  {
   "cell_type": "code",
   "execution_count": 44,
   "id": "31f2d1ef",
   "metadata": {},
   "outputs": [
    {
     "data": {
      "image/png": "[encoded data removed]",
      "text/plain": [
       "<Figure size 432x288 with 1 Axes>"
      ]
     },
     "metadata": {
      "needs_background": "light"
     },
     "output_type": "display_data"
    }
   ],
   "source": [
    "#create frequency chart\n",
    "ax = freq.plot.barh(x=col_name, y='freq', rot=0)"
   ]
  },
  {
   "cell_type": "code",
   "execution_count": 45,
   "id": "03dfa9d9",
   "metadata": {},
   "outputs": [
    {
     "name": "stdout",
     "output_type": "stream",
     "text": [
      "2.3182594906426433\n",
      "2.0\n",
      "1.4604262563667194\n"
     ]
    }
   ],
   "source": [
    "#calculate mean of a column\n",
    "quant_col = 'FPERSONS'\n",
    "mean = df[quant_col].mean()\n",
    "print(mean)\n",
    "\n",
    "median = df[quant_col].median()\n",
    "print(median)\n",
    "\n",
    "standard_deviation = df[quant_col].std()\n",
    "print(standard_deviation)"
   ]
  },
  {
   "cell_type": "code",
   "execution_count": null,
   "id": "05a825ed",
   "metadata": {},
   "outputs": [],
   "source": []
  }
 ],
 "metadata": {
  "kernelspec": {
   "display_name": "Python 3 (ipykernel)",
   "language": "python",
   "name": "python3"
  },
  "language_info": {
   "codemirror_mode": {
    "name": "ipython",
    "version": 3
   },
   "file_extension": ".py",
   "mimetype": "text/x-python",
   "name": "python",
   "nbconvert_exporter": "python",
   "pygments_lexer": "ipython3",
   "version": "3.9.12"
  }
 },
 "nbformat": 4,
 "nbformat_minor": 5
}
